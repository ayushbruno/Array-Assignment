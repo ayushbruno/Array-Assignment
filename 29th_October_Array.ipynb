{
  "nbformat": 4,
  "nbformat_minor": 0,
  "metadata": {
    "colab": {
      "provenance": []
    },
    "kernelspec": {
      "name": "python3",
      "display_name": "Python 3"
    },
    "language_info": {
      "name": "python"
    }
  },
  "cells": [
    {
      "cell_type": "code",
      "execution_count": null,
      "metadata": {
        "colab": {
          "base_uri": "https://localhost:8080/"
        },
        "id": "Tc0VRqsG_FkM",
        "outputId": "5497619e-b017-44b2-8d64-08de4ad74211"
      },
      "outputs": [
        {
          "output_type": "stream",
          "name": "stdout",
          "text": [
            "True\n"
          ]
        }
      ],
      "source": [
        "# 1. Check if an array contains any duplicates.\n",
        "# Given array\n",
        "arr = [1, 2, 4, 2, 5, 9]\n",
        "\n",
        "# Convert the array to a set to remove duplicates\n",
        "b=set(arr)\n",
        "if arr==b:\n",
        "    print(\"False\")\n",
        "else:\n",
        "    print(\"True\")\n"
      ]
    },
    {
      "cell_type": "code",
      "source": [
        "# 2. Rotate an array to the right by k steps.\n",
        "# Given array and steps\n",
        "arr = [1, 2, 3, 4, 5, 6, 7]\n",
        "k = 3\n",
        "\n",
        "# Calculate the effective rotation (handling cases where k > len(arr))\n",
        "k %= len(arr)\n",
        "\n",
        "# Perform rotation\n",
        "rotated_arr = arr[-k:] + arr[:-k]\n",
        "\n",
        "# Output the result\n",
        "print(\"Output:\", rotated_arr)\n",
        "# Explanation: Slicing the array to rotate by `k` steps to the right.\n"
      ],
      "metadata": {
        "colab": {
          "base_uri": "https://localhost:8080/"
        },
        "id": "YANgnS3-_qQo",
        "outputId": "c7cb830b-2b7c-471d-8b7f-b39ea4ac1d1f"
      },
      "execution_count": null,
      "outputs": [
        {
          "output_type": "stream",
          "name": "stdout",
          "text": [
            "Output: [5, 6, 7, 1, 2, 3, 4]\n"
          ]
        }
      ]
    },
    {
      "cell_type": "code",
      "source": [
        "# 3. Reverse an array in-place without using extra data structures.\n",
        "# Given array\n",
        "arr = [2, 4, 5, 7, 9, 12]\n",
        "\n",
        "# Reverse the array in-place using two-pointer approach\n",
        "left, right = 0, len(arr) - 1\n",
        "while left < right:\n",
        "    arr[left], arr[right] = arr[right], arr[left]\n",
        "    left += 1\n",
        "    right -= 1\n",
        "\n",
        "# Output the result\n",
        "print(\"Output:\", arr)\n",
        "# Explanation: This swaps elements from the start and end towards the center to reverse in-place.\n"
      ],
      "metadata": {
        "colab": {
          "base_uri": "https://localhost:8080/"
        },
        "id": "tDfINIRDAbqp",
        "outputId": "f2a66da5-545e-4a05-fbe2-1ff3983ea573"
      },
      "execution_count": null,
      "outputs": [
        {
          "output_type": "stream",
          "name": "stdout",
          "text": [
            "Output: [12, 9, 7, 5, 4, 2]\n"
          ]
        }
      ]
    },
    {
      "cell_type": "code",
      "source": [
        "# 4. Find the maximum element in an array.\n",
        "# Given array\n",
        "arr = [10, 5, 20, 8, 15]\n",
        "\n",
        "# Use Python's built-in max function\n",
        "max_element = max(arr)\n",
        "\n",
        "# Output the result\n",
        "print(\"Output:\", max_element)\n",
        "# Explanation: The max() function efficiently finds the largest element in the array.\n"
      ],
      "metadata": {
        "colab": {
          "base_uri": "https://localhost:8080/"
        },
        "id": "vuGCbJgADG__",
        "outputId": "e21e777d-d5f0-496e-c91d-32fc2002aba1"
      },
      "execution_count": null,
      "outputs": [
        {
          "output_type": "stream",
          "name": "stdout",
          "text": [
            "Output: 20\n"
          ]
        }
      ]
    },
    {
      "cell_type": "code",
      "source": [
        "# 5. Remove duplicate elements from a sorted array without using extra data structures.\n",
        "# Given sorted array\n",
        "arr = [1, 1, 2, 2, 2, 3, 3, 4, 4, 4, 5, 5]\n",
        "\n",
        "# Use in-place two-pointer approach to remove duplicates\n",
        "i = 0  # Pointer to place unique elements\n",
        "for j in range(1, len(arr)):\n",
        "    if arr[j] != arr[i]:  # Check for unique elements\n",
        "        i += 1\n",
        "        arr[i] = arr[j]\n",
        "\n",
        "# Slice the array up to the unique element index\n",
        "unique_arr = arr[:i+1]\n",
        "\n",
        "# Output the result\n",
        "print(\"Output:\", unique_arr)\n",
        "# Explanation: This shifts unique elements to the front of the array without extra space.\n"
      ],
      "metadata": {
        "id": "tvtWNuD6MXZI",
        "colab": {
          "base_uri": "https://localhost:8080/"
        },
        "outputId": "7c6c0abe-d771-4028-f8b0-5b9b36f6b76e"
      },
      "execution_count": 8,
      "outputs": [
        {
          "output_type": "stream",
          "name": "stdout",
          "text": [
            "Output: [1, 2, 3, 4, 5]\n"
          ]
        }
      ]
    },
    {
      "cell_type": "code",
      "source": [],
      "metadata": {
        "id": "-eFbXhZ3egBN"
      },
      "execution_count": null,
      "outputs": []
    }
  ]
}